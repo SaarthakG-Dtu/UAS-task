{
 "cells": [
  {
   "cell_type": "code",
   "execution_count": 16,
   "id": "00004eb1-49e9-43b0-a239-1cdbc9772121",
   "metadata": {},
   "outputs": [
    {
     "name": "stdout",
     "output_type": "stream",
     "text": [
      "\n",
      "image 1/1 C:\\Users\\saart\\OneDrive\\Desktop\\UAS_DTU_Round_2_Task_data\\8\\front.jpg: 480x640 5 2s, 3 3s, 291.1ms\n",
      "Speed: 3.0ms preprocess, 291.1ms inference, 1.0ms postprocess per image at shape (1, 3, 480, 640)\n",
      "Results saved to \u001b[1mruns\\detect\\predict15\u001b[0m\n",
      "\n",
      "image 1/1 C:\\Users\\saart\\OneDrive\\Desktop\\UAS_DTU_Round_2_Task_data\\8\\back.jpg: 480x640 8 2s, 3 3s, 215.0ms\n",
      "Speed: 2.0ms preprocess, 215.0ms inference, 2.2ms postprocess per image at shape (1, 3, 480, 640)\n",
      "Results saved to \u001b[1mruns\\detect\\predict15\u001b[0m\n",
      "[{'bbox': (235, 211, 374, 336), 'center': (304, 273), 'class': '3'}, {'bbox': (25, 211, 167, 337), 'center': (96, 274), 'class': '3'}, {'bbox': (441, 212, 581, 335), 'center': (511, 273), 'class': '3'}, {'bbox': (68, 236, 86, 277), 'center': (77, 256), 'class': '2'}, {'bbox': (278, 236, 295, 276), 'center': (286, 256), 'class': '2'}, {'bbox': (319, 272, 336, 312), 'center': (327, 292), 'class': '2'}, {'bbox': (488, 287, 505, 324), 'center': (496, 305), 'class': '2'}, {'bbox': (109, 272, 127, 313), 'center': (118, 292), 'class': '2'}]\n",
      "Final counts:\n",
      "red: 12\n",
      "green: 6\n",
      "blue: 0\n",
      "unknown: 0\n"
     ]
    }
   ],
   "source": [
    "from ultralytics import YOLO\n",
    "import cv2\n",
    "import numpy as np\n",
    "\n",
    "\n",
    "front_image = r'C:\\Users\\saart\\OneDrive\\Desktop\\UAS_DTU_Round_2_Task_data\\8\\front.jpg'\n",
    "back_image = r'C:\\Users\\saart\\OneDrive\\Desktop\\UAS_DTU_Round_2_Task_data\\8\\back.jpg'\n",
    "model_path = r'C:\\Users\\saart\\OneDrive\\Desktop\\best.pt'\n",
    "model = YOLO(model_path)\n",
    "\n",
    "def predict(image_path):\n",
    "    results = model.predict(image_path, save=True)\n",
    "    fruits = []\n",
    "    for box in results[0].boxes:\n",
    "        x1, y1, x2, y2 = map(int, box.xyxy[0].tolist())\n",
    "        class_name = model.names[int(box.cls)]        \n",
    "        # Calculate center point\n",
    "        center_x = (x1 + x2) // 2\n",
    "        center_y = (y1 + y2) // 2\n",
    "        \n",
    "        fruits.append({\n",
    "            \"bbox\": (x1, y1, x2, y2),\n",
    "            \"center\": (center_x, center_y),\n",
    "            \"class\": class_name\n",
    "        })\n",
    "    \n",
    "    return fruits\n",
    "\n",
    "# Step 3: Simple color detection (RGB-based)\n",
    "def get_color(roi):\n",
    "    avg_color = np.mean(roi, axis=(0, 1))  # Get average RGB values\n",
    "    r, g, b = avg_color\n",
    "    \n",
    "    # Simple color thresholds (adjust these as needed)\n",
    "    if r > g and r > b: return \"red\"\n",
    "    elif g > r and g > b: return \"green\"\n",
    "    elif b > r and b > g: return \"blue\"\n",
    "    else: return \"unknown\"\n",
    "\n",
    "# Step 4: Process images\n",
    "front_img = cv2.imread(front_image)\n",
    "back_img = cv2.imread(back_image)\n",
    "\n",
    "front_fruits = predict(front_image)\n",
    "back_fruits = predict(back_image)\n",
    "\n",
    "# Step 5: Match fruits between front and back\n",
    "counts = {\"red\": 0, \"green\": 0, \"blue\": 0, \"unknown\": 0}\n",
    "\n",
    "# Check front fruits\n",
    "for front in front_fruits:\n",
    "    x1, y1, x2, y2 = front[\"bbox\"]\n",
    "    roi = front_img[y1:y2, x1:x2]\n",
    "    color = get_color(roi)\n",
    "    \n",
    "    # Check if same fruit exists in back image\n",
    "    is_duplicate = False\n",
    "    for back in back_fruits:\n",
    "        # Simple distance check (adjust 50 as needed)\n",
    "        distance = np.sqrt((front[\"center\"][0]-back[\"center\"][0])**2 + \n",
    "                          (front[\"center\"][1]-back[\"center\"][1])**2)\n",
    "        \n",
    "        if distance < 50:  # If centers are close\n",
    "            is_duplicate = True\n",
    "            break\n",
    "    \n",
    "    if not is_duplicate:\n",
    "        counts[color] += 1\n",
    "\n",
    "# Check remaining back fruits\n",
    "for back in back_fruits:\n",
    "    x1, y1, x2, y2 = back[\"bbox\"]\n",
    "    roi = back_img[y1:y2, x1:x2]\n",
    "    color = get_color(roi)\n",
    "    counts[color] += 1\n",
    "\n",
    "# Step 6: Show results\n",
    "print(front_fruits)\n",
    "print(\"Final counts:\")\n",
    "for color, count in counts.items():\n",
    "    print(f\"{color}: {count}\")"
   ]
  },
  {
   "cell_type": "code",
   "execution_count": 4,
   "id": "80eb5770-1fa9-45be-a2fb-64d8ec9ac6d0",
   "metadata": {},
   "outputs": [
    {
     "name": "stdout",
     "output_type": "stream",
     "text": [
      "Runs directory zipped as runs.zip\n"
     ]
    },
    {
     "data": {
      "text/html": [
       "<a href='runs.zip' target='_blank'>runs.zip</a><br>"
      ],
      "text/plain": [
       "C:\\Users\\saart\\runs.zip"
      ]
     },
     "execution_count": 4,
     "metadata": {},
     "output_type": "execute_result"
    }
   ],
   "source": [
    "import shutil\n",
    "\n",
    "# Zip the entire runs directory\n",
    "shutil.make_archive('runs', 'zip', 'runs')\n",
    "print(\"Runs directory zipped as runs.zip\")\n",
    "from IPython.display import FileLink\n",
    "\n",
    "# Create a download link for the zipped file\n",
    "FileLink('runs.zip')\n"
   ]
  },
  {
   "cell_type": "code",
   "execution_count": null,
   "id": "e93a24f5-ac48-454f-a564-37daaf7881fb",
   "metadata": {},
   "outputs": [],
   "source": []
  }
 ],
 "metadata": {
  "kernelspec": {
   "display_name": "Python [conda env:base] *",
   "language": "python",
   "name": "conda-base-py"
  },
  "language_info": {
   "codemirror_mode": {
    "name": "ipython",
    "version": 3
   },
   "file_extension": ".py",
   "mimetype": "text/x-python",
   "name": "python",
   "nbconvert_exporter": "python",
   "pygments_lexer": "ipython3",
   "version": "3.12.7"
  }
 },
 "nbformat": 4,
 "nbformat_minor": 5
}
