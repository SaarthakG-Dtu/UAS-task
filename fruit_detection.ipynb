{
 "cells": [
  {
   "cell_type": "code",
   "execution_count": null,
   "id": "1445c3d0-375f-4a83-bf4a-f01964cbe453",
   "metadata": {},
   "outputs": [],
   "source": []
  }
 ],
 "metadata": {
  "kernelspec": {
   "display_name": "",
   "name": ""
  },
  "language_info": {
   "name": ""
  }
 },
 "nbformat": 4,
 "nbformat_minor": 5
}
